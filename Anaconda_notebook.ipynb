{
 "cells": [
  {
   "cell_type": "markdown",
   "id": "84a1825e",
   "metadata": {},
   "source": [
    "# Comandos avanzados e importantes de Conda"
   ]
  },
  {
   "cell_type": "code",
   "execution_count": null,
   "id": "053e00f4",
   "metadata": {
    "vscode": {
     "languageId": "shellscript"
    }
   },
   "outputs": [
    {
     "ename": "",
     "evalue": "",
     "output_type": "error",
     "traceback": [
      "\u001b[1;31mRunning cells with 'py311' requires the ipykernel package.\n",
      "\u001b[1;31mRun the following command to install 'ipykernel' into the Python environment. \n",
      "\u001b[1;31mCommand: 'conda install -n py311 ipykernel --update-deps --force-reinstall'"
     ]
    }
   ],
   "source": [
    "#Crear ambiente\n",
    "conda create --name py39 python=3.9 pandas=1.2\n",
    "\n",
    "#Ir al ambiente\n",
    "conda activate py39\n",
    "\n",
    "# Instalar boltons\n",
    "conda install -c conda-forge boltons\n",
    "\n",
    "#Ver los puntos anteriores y los cambios hechos\n",
    "conda list -r\n",
    "\n",
    "#Devolverme a la revision 0\n",
    "conda install --revision 0\n",
    "\n",
    "#Revisar si esta instalado un paquete\n",
    "conda list boltons\n",
    "\n",
    "#Exportar tu ambiente\n",
    "conda env export\n",
    "\n",
    "#Exportar tu ambiente pero sin las versiones\n",
    "conda env export --no-builds\n",
    "\n",
    "#Exportar tu ambiente LA MEJOR\n",
    "conda env export --from-history\n",
    "\n",
    "#Exportar tu ambiente a un archivo\n",
    "conda env export --from-history --file environment.yml\n",
    "\n",
    "#Remover ambiente \n",
    "conda env remove --name py39\n",
    "\n",
    "#Importar el ambiente\n",
    "conda env create --file environment.yml\n",
    "\n",
    "#Ir al ambiente \n",
    "conda activate py39"
   ]
  }
 ],
 "metadata": {
  "kernelspec": {
   "display_name": "Python 3",
   "language": "python",
   "name": "python3"
  },
  "language_info": {
   "name": "python",
   "version": "3.11.4"
  }
 },
 "nbformat": 4,
 "nbformat_minor": 5
}
