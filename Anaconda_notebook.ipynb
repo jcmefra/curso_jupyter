{
 "cells": [
  {
   "cell_type": "markdown",
   "id": "84a1825e",
   "metadata": {},
   "source": [
    "# Comandos avanzados e importantes de Conda"
   ]
  },
  {
   "cell_type": "code",
   "execution_count": 1,
   "id": "053e00f4",
   "metadata": {
    "vscode": {
     "languageId": "shellscript"
    }
   },
   "outputs": [
    {
     "ename": "SyntaxError",
     "evalue": "invalid syntax (2694231759.py, line 2)",
     "output_type": "error",
     "traceback": [
      "\u001b[0;36m  Cell \u001b[0;32mIn[1], line 2\u001b[0;36m\u001b[0m\n\u001b[0;31m    conda create --name py39 python=3.9 pandas=1.2\u001b[0m\n\u001b[0m          ^\u001b[0m\n\u001b[0;31mSyntaxError\u001b[0m\u001b[0;31m:\u001b[0m invalid syntax\n"
     ]
    }
   ],
   "source": [
    "#Crear ambiente\n",
    "conda create --name py39 python=3.9 pandas=1.2\n",
    "\n",
    "#Ir al ambiente\n",
    "conda activate py39\n",
    "\n",
    "# Instalar boltons\n",
    "conda install -c conda-forge boltons\n",
    "\n",
    "#Ver los puntos anteriores y los cambios hechos\n",
    "conda list -r\n",
    "\n",
    "#Devolverme a la revision 0\n",
    "conda install --revision 0\n",
    "\n",
    "#Revisar si esta instalado un paquete\n",
    "conda list boltons\n",
    "\n",
    "#Exportar tu ambiente\n",
    "conda env export\n",
    "\n",
    "#Exportar tu ambiente pero sin las versiones\n",
    "conda env export --no-builds\n",
    "\n",
    "#Exportar tu ambiente LA MEJOR\n",
    "conda env export --from-history\n",
    "\n",
    "#Exportar tu ambiente a un archivo\n",
    "conda env export --from-history --file environment.yml\n",
    "\n",
    "#Remover ambiente \n",
    "conda env remove --name py39\n",
    "\n",
    "#Importar el ambiente\n",
    "conda env create --file environment.yml\n",
    "\n",
    "#Ir al ambiente \n",
    "conda activate py39"
   ]
  }
 ],
 "metadata": {
  "kernelspec": {
   "display_name": "Python 3",
   "language": "python",
   "name": "python3"
  },
  "language_info": {
   "codemirror_mode": {
    "name": "ipython",
    "version": 3
   },
   "file_extension": ".py",
   "mimetype": "text/x-python",
   "name": "python",
   "nbconvert_exporter": "python",
   "pygments_lexer": "ipython3",
   "version": "3.11.4"
  }
 },
 "nbformat": 4,
 "nbformat_minor": 5
}
